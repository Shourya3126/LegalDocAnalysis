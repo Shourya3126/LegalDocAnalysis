{
 "cells": [
  {
   "cell_type": "code",
   "execution_count": null,
   "id": "ac1d713e",
   "metadata": {
    "vscode": {
     "languageId": "plaintext"
    }
   },
   "outputs": [],
   "source": [
    "{\n",
    "  \"cells\": [\n",
    "    {\n",
    "      \"cell_type\": \"markdown\",\n",
    "      \"source\": [\n",
    "        \"# AgentLegal Demo\\n\",\n",
    "        \"## Setup\\n\",\n",
    "        \"- Backend: Deploy on Render.\\n\",\n",
    "        \"- Cequence: Create MCP with passthrough auth.\\n\",\n",
    "        \"- Smithery: Publish MCP details.\\n\",\n",
    "        \"## Run\\n\",\n",
    "        \"```bash\\n\",\n",
    "        \"python agent_client/demo.py --mcp_url=https://agentlegal-mcp.cequence.ai/mcp --api_key=$LEGAL_API_KEY\\n\",\n",
    "        \"```\\n\",\n",
    "        \"## Test\\n\",\n",
    "        \"```bash\\n\",\n",
    "        \"curl -H \\\"X-API-Key: $LEGAL_API_KEY\\\" https://agentlegal-mcp.cequence.ai/mcp/health\\n\",\n",
    "        \"```\"\n",
    "      ]\n",
    "    }\n",
    "  ],\n",
    "  \"metadata\": {\n",
    "    \"kernelspec\": { \"display_name\": \"Python 3\", \"language\": \"python\", \"name\": \"python3\" }\n",
    "  },\n",
    "  \"nbformat\": 4,\n",
    "  \"nbformat_minor\": 5\n",
    "}"
   ]
  }
 ],
 "metadata": {
  "language_info": {
   "name": "python"
  }
 },
 "nbformat": 4,
 "nbformat_minor": 5
}
